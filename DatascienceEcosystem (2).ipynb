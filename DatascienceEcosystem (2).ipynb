{
 "cells": [
  {
   "cell_type": "markdown",
   "id": "1815fa96-55db-47f2-95a4-637b004b5928",
   "metadata": {},
   "source": [
    "# Data  ScienceTools and Ecosystem"
   ]
  },
  {
   "cell_type": "markdown",
   "id": "39e6bb20-50cc-451d-b8cd-fc82eb4c73e2",
   "metadata": {},
   "source": [
    "In this notebook, Data science Tools and Ecosystem are summarized,"
   ]
  },
  {
   "cell_type": "markdown",
   "id": "b10c2bf1-70dd-4ab8-b0af-76d8fcd4a332",
   "metadata": {},
   "source": [
    "**objectives:**\n",
    "* List popular languages for Data scientist .\n",
    "* Identify commonly used libraries in Data science .\n",
    "* Demonstrate basic arithmetic operations in Python .\n",
    "* Convert minutes to hours using Python expression ."
   ]
  },
  {
   "cell_type": "markdown",
   "id": "e9bd4ef8-a929-4db8-ba11-2629e37e8ca6",
   "metadata": {},
   "source": [
    "Some of the popular languages that Data scientists use are;"
   ]
  },
  {
   "cell_type": "markdown",
   "id": "d9bda81d-3d1e-4fe6-9955-cdc6763068bc",
   "metadata": {},
   "source": [
    "1. Python\n",
    "2. R\n",
    "3. SQL\n",
    "4. Julia\n",
    "5. Java"
   ]
  },
  {
   "cell_type": "markdown",
   "id": "af01b0ed-a07f-4bcb-ab22-ffdbe9a942ae",
   "metadata": {},
   "source": [
    "Some of the commomly used libraries used by Data Scientists include:\n",
    "1. NumPy\n",
    "2. Pandas\n",
    "3. Maplotib\n",
    "4. Scikit-learn\n",
    "5. Tensorflow"
   ]
  },
  {
   "cell_type": "code",
   "execution_count": null,
   "id": "3e390219-af69-4ba2-a2fc-e9d31ecabdf0",
   "metadata": {},
   "outputs": [],
   "source": []
  },
  {
   "cell_type": "markdown",
   "id": "1f111db7-f931-48a4-9b93-a876783ee674",
   "metadata": {},
   "source": [
    "| Data science Tools |\n",
    "|--------------------|\n",
    "| Jupyter notebook   |\n",
    "| Rstudio            |\n",
    "| apache Zeppelin    |\n"
   ]
  },
  {
   "cell_type": "markdown",
   "id": "836b4ae3-63a6-433d-bdaf-5c69c3426e80",
   "metadata": {},
   "source": [
    "### Below are  examples of evaluaing arithmetic expressions in Python"
   ]
  },
  {
   "cell_type": "code",
   "execution_count": null,
   "id": "28e78101-ec9f-467a-b296-9ae5f977bff5",
   "metadata": {},
   "outputs": [],
   "source": []
  },
  {
   "cell_type": "code",
   "execution_count": 6,
   "id": "4352c7e3-6467-4552-953f-397ebd60c9b2",
   "metadata": {},
   "outputs": [
    {
     "data": {
      "text/plain": [
       "17"
      ]
     },
     "execution_count": 6,
     "metadata": {},
     "output_type": "execute_result"
    }
   ],
   "source": [
    "# This is a simple arithmetic expression to multiply 3 by 4, then add 5\n",
    "(3 * 4) + 5"
   ]
  },
  {
   "cell_type": "code",
   "execution_count": 7,
   "id": "0c0b9e0e-6e8f-42d7-9a04-2f9e14106609",
   "metadata": {},
   "outputs": [
    {
     "data": {
      "text/plain": [
       "3.3333333333333335"
      ]
     },
     "execution_count": 7,
     "metadata": {},
     "output_type": "execute_result"
    }
   ],
   "source": [
    "# this will convert 200 minutes to hours by dividing by 60\n",
    "200/60"
   ]
  },
  {
   "cell_type": "markdown",
   "id": "d5aaee25-899f-4e1d-8dc6-59e7a9746e54",
   "metadata": {},
   "source": [
    "## Author\n",
    "Tomomewo Kehinde"
   ]
  },
  {
   "cell_type": "code",
   "execution_count": null,
   "id": "aec6da8b-30a0-4c54-b4d9-c7aad392963c",
   "metadata": {},
   "outputs": [],
   "source": []
  }
 ],
 "metadata": {
  "kernelspec": {
   "display_name": "Python 3 (ipykernel)",
   "language": "python",
   "name": "python3"
  },
  "language_info": {
   "codemirror_mode": {
    "name": "ipython",
    "version": 3
   },
   "file_extension": ".py",
   "mimetype": "text/x-python",
   "name": "python",
   "nbconvert_exporter": "python",
   "pygments_lexer": "ipython3",
   "version": "3.12.7"
  }
 },
 "nbformat": 4,
 "nbformat_minor": 5
}
